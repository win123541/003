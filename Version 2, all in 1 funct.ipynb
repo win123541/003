{
 "cells": [
  {
   "cell_type": "code",
   "execution_count": 4,
   "id": "f7a34ee5",
   "metadata": {},
   "outputs": [],
   "source": [
    "# !pip install yfinance\n",
    "import yfinance as yf\n",
    "import pandas as pd\n",
    "import numpy as np \n",
    "import scipy.stats as spst\n",
    "import statsmodels.api as sm\n",
    "import datetime \n",
    "import matplotlib.pyplot as plt \n",
    "from math import *"
   ]
  },
  {
   "cell_type": "code",
   "execution_count": 9,
   "id": "940bb8a4",
   "metadata": {},
   "outputs": [],
   "source": [
    "# sp500 = yf.Ticker(\"^GSPC\")\n",
    "# # sp500.info\n",
    "# hist = sp500.history(period=\"1mo\")\n",
    "# hist"
   ]
  },
  {
   "cell_type": "code",
   "execution_count": 81,
   "id": "4527c7b9",
   "metadata": {
    "scrolled": false
   },
   "outputs": [
    {
     "data": {
      "text/plain": [
       "-0.0002795429633603661"
      ]
     },
     "execution_count": 81,
     "metadata": {},
     "output_type": "execute_result"
    }
   ],
   "source": [
    "class Pred_Nextday_Stock: \n",
    "    def __init__(self, ticker, train_period = '1y'):\n",
    "        self.ticker = ticker \n",
    "        self.df = None \n",
    "        self.training = None\n",
    "        self.apply = None\n",
    "        self.period = train_period \n",
    "        \n",
    "    def get_df(self): \n",
    "        stock = yf.Ticker(self.ticker)\n",
    "        self.df = stock.history(period = self.period)\n",
    "#         return self \n",
    "        \n",
    "    def create_features(self): \n",
    "        # Create Return \n",
    "        self.df['Ret'] = self.df.Close.pct_change().shift(-1)\n",
    "        \n",
    "        # Create 10 days MACD (2 weeks)\n",
    "        self.df['MACD'] = self.df.Ret.rolling(10).mean().shift(1)\n",
    "        \n",
    "        # Create 10 days Bollinger Bands Upper \n",
    "        self.df['BBup'] = self.df.Ret.rolling(10).max().shift(1)\n",
    "        \n",
    "        # Create monthly std \n",
    "        self.df['1MStd'] = self.df.Ret.rolling(20).std(ddof = 1).shift(1)\n",
    "        \n",
    "        # Create 5 days direction \n",
    "        self.df['Dir'] = (self.df.Close.diff(4).shift(1) >= 0).astype(int)\n",
    "        \n",
    "        self.df = sm.add_constant(self.df)\n",
    "        \n",
    "        self.training = self.df[['MACD', 'BBup', '1MStd', 'Dir', 'Ret', 'const']].iloc[20:-1]\n",
    "        self.apply = self.df[['MACD', 'BBup', '1MStd', 'Dir', 'const']].iloc[-1]\n",
    "        \n",
    "    def train_model(self): \n",
    "        train_X = self.training.drop('Ret', axis = 1)\n",
    "        train_y = self.training.Ret\n",
    "        model = sm.OLS(exog = sm.add_constant(train_X), endog = train_y).fit()\n",
    "#         return model.predict(sm.add_constant(self.apply))\n",
    "#         self.apply['const'] = 1\n",
    "#         print(sm.add_constant(train_X))\n",
    "#         print(model.summary())\n",
    "#         print(self.apply)\n",
    "#         print(model.predict(self.apply) )\n",
    "#         print(model.params)\n",
    "        return model.predict(self.apply).values[0]\n",
    "\n",
    "    def model_pred(self):\n",
    "        self.get_df()\n",
    "        self.create_features() \n",
    "        return self.train_model()\n",
    "\n",
    "        \n",
    "#         print(model.summary())\n",
    "        \n",
    "S = Pred_Nextday_Stock(ticker = '^GSPC')\n",
    "# S.get_df()\n",
    "# S.create_features()\n",
    "# S.train_model()\n",
    "# S.training\n",
    "S.model_pred()"
   ]
  },
  {
   "cell_type": "code",
   "execution_count": null,
   "id": "4e0ce6f0",
   "metadata": {},
   "outputs": [],
   "source": []
  },
  {
   "cell_type": "code",
   "execution_count": null,
   "id": "d978d878",
   "metadata": {},
   "outputs": [],
   "source": []
  },
  {
   "cell_type": "code",
   "execution_count": null,
   "id": "e1aaa5d6",
   "metadata": {},
   "outputs": [],
   "source": []
  },
  {
   "cell_type": "code",
   "execution_count": null,
   "id": "cf60c4e0",
   "metadata": {},
   "outputs": [],
   "source": []
  },
  {
   "cell_type": "code",
   "execution_count": null,
   "id": "7d8b044d",
   "metadata": {},
   "outputs": [],
   "source": []
  },
  {
   "cell_type": "code",
   "execution_count": null,
   "id": "eceedbb1",
   "metadata": {},
   "outputs": [],
   "source": []
  },
  {
   "cell_type": "code",
   "execution_count": null,
   "id": "7cd09439",
   "metadata": {},
   "outputs": [],
   "source": []
  },
  {
   "cell_type": "code",
   "execution_count": null,
   "id": "81014eb5",
   "metadata": {},
   "outputs": [],
   "source": []
  },
  {
   "cell_type": "code",
   "execution_count": null,
   "id": "a9885bee",
   "metadata": {},
   "outputs": [],
   "source": []
  }
 ],
 "metadata": {
  "kernelspec": {
   "display_name": "Python 3 (ipykernel)",
   "language": "python",
   "name": "python3"
  },
  "language_info": {
   "codemirror_mode": {
    "name": "ipython",
    "version": 3
   },
   "file_extension": ".py",
   "mimetype": "text/x-python",
   "name": "python",
   "nbconvert_exporter": "python",
   "pygments_lexer": "ipython3",
   "version": "3.9.12"
  }
 },
 "nbformat": 4,
 "nbformat_minor": 5
}
